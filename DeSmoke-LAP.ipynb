{
  "nbformat": 4,
  "nbformat_minor": 0,
  "metadata": {
    "colab": {
      "name": "Copy of CycleGAN-surgery",
      "provenance": [],
      "collapsed_sections": [
        "8daqlgVhw29P",
        "iskhh8Ldll-u",
        "gdUz4116xhpm"
      ]
    },
    "kernelspec": {
      "name": "python3",
      "display_name": "Python 3"
    },
    "accelerator": "GPU"
  },
  "cells": [
    {
      "cell_type": "markdown",
      "metadata": {
        "id": "5VIGyIus8Vr7"
      },
      "source": [
        "Take a look at the [repository](https://github.com/yiroup20/CycleGAN-surgery) for more information"
      ]
    },
    {
      "cell_type": "markdown",
      "metadata": {
        "id": "7wNjDKdQy35h"
      },
      "source": [
        "# Install"
      ]
    },
    {
      "cell_type": "code",
      "metadata": {
        "id": "XrpnG0AIs7cg"
      },
      "source": [
        "!git clone https://github.com/yiroup20/CycleGAN-surgery.git"
      ],
      "execution_count": null,
      "outputs": []
    },
    {
      "cell_type": "code",
      "metadata": {
        "id": "TRm-USlsHgEV"
      },
      "source": [
        "cd /CycleGAN-surgery/"
      ],
      "execution_count": null,
      "outputs": []
    },
    {
      "cell_type": "code",
      "metadata": {
        "id": "z1EySlOXwwoa"
      },
      "source": [
        "!pip install -r requirements.txt"
      ],
      "execution_count": null,
      "outputs": []
    },
    {
      "cell_type": "markdown",
      "metadata": {
        "id": "8daqlgVhw29P"
      },
      "source": [
        "# Datasets\n",
        "\n",
        "Use your own dataset by creating the appropriate folders and adding in the images.\n",
        "\n",
        "-   Create a dataset folder under `/dataset` for your dataset.\n",
        "-   Create subfolders `testA`, `testB`, `trainA`, and `trainB` under your dataset's folder. For example, place clear images in the `trainA` folder, hazy images in the `trainB` folder, and do the same for the `testA` and `testB` folders."
      ]
    },
    {
      "cell_type": "markdown",
      "metadata": {
        "id": "gdUz4116xhpm"
      },
      "source": [
        "# Pretrained models\n",
        "\n",
        "Add the provided model under `/pretrained/[NAME]` to `./checkpoints/[NAME]/latest_net_G.pt` (Pretrained models can be found [here](https://liveuclac-my.sharepoint.com/:f:/g/personal/ucabyp0_ucl_ac_uk/EpQ_FlAJi4JGk5hnahRBQncB6DXT8VQVfIsPRZ67HV1hag?e=mGcwW5).)\n",
        "\n",
        "Or add your own pretrained model to `./checkpoints/{NAME}/latest_net_G.pt`"
      ]
    },
    {
      "cell_type": "code",
      "metadata": {
        "id": "B75UqtKhxznS"
      },
      "source": [
        "cp ./pretrained/hazy2clear_0206/latest_net_G_B.pth ./checkpoints/hazy2clear_0206/latest_net_G.pth"
      ],
      "execution_count": null,
      "outputs": []
    },
    {
      "cell_type": "markdown",
      "metadata": {
        "id": "yFw1kDQBx3LN"
      },
      "source": [
        "# Training\n",
        "\n",
        "-   `python train.py --dataroot ./datasets/hazy2clear --name hazy2clear --model cycle_gan`\n",
        "\n",
        "Change the `--dataroot` and `--name` to your own dataset's path and model's name. Use `--gpu_ids 0,1,..` to train on multiple GPUs and `--batch_size` to change the batch size. I've found that a batch size of 16 fits onto 4 V100s and can finish training an epoch in ~90s.\n",
        "\n",
        "Once your model has trained, copy over the last checkpoint to a format that the testing model can automatically detect:\n",
        "\n",
        "<!-- Use `cp ./checkpoints/horse2zebra/latest_net_G_A.pth ./checkpoints/horse2zebra/latest_net_G.pth` if you want to transform images from class A to class B and `cp ./checkpoints/horse2zebra/latest_net_G_B.pth ./checkpoints/horse2zebra/latest_net_G.pth` if you want to transform images from class B to class A. -->\n"
      ]
    },
    {
      "cell_type": "code",
      "metadata": {
        "id": "0sp7TCT2x9dB"
      },
      "source": [
        "!python train.py --dataroot ./datasets/hazy2clear_0206 --name hazy2clear_0206 --model cycle_gan --batch_size 4"
      ],
      "execution_count": null,
      "outputs": []
    },
    {
      "cell_type": "markdown",
      "metadata": {
        "id": "z4_lN2FcNtiI"
      },
      "source": [
        "### Copy the checkpoint for the following testing"
      ]
    },
    {
      "cell_type": "code",
      "metadata": {
        "id": "8OMGweQaBHMq",
        "colab": {
          "base_uri": "https://localhost:8080/"
        },
        "outputId": "59506478-a151-471e-d8d1-969bfe626d68"
      },
      "source": [
        "cp ./checkpoints/hazy2clear_2/latest_net_G_B.pth ./checkpoints/hazy2clear_2/latest_net_G.pth"
      ],
      "execution_count": null,
      "outputs": [
        {
          "output_type": "stream",
          "text": [
            "^C\n"
          ],
          "name": "stdout"
        }
      ]
    },
    {
      "cell_type": "markdown",
      "metadata": {
        "id": "9UkcaFZiyASl"
      },
      "source": [
        "# Testing\n",
        "\n",
        "-   `python test.py --dataroot datasets/hazy2clear/testA --name hazy2clear --model test --no_dropout`\n",
        "\n",
        "Change the `--dataroot` and `--name` to be consistent with your trained model's configuration.\n",
        "\n",
        "> from https://github.com/junyanz/pytorch-CycleGAN-and-pix2pix:\n",
        "> The option --model test is used for generating results of CycleGAN only for one side. This option will automatically set --dataset_mode single, which only loads the images from one set. On the contrary, using --model cycle_gan requires loading and generating results in both directions, which is sometimes unnecessary. The results will be saved at ./results/. Use --results_dir {directory_path_to_save_result} to specify the results directory.\n",
        "\n",
        "> For your own experiments, you might want to specify --netG, --norm, --no_dropout to match the generator architecture of the trained model."
      ]
    },
    {
      "cell_type": "code",
      "metadata": {
        "id": "uCsKkEq0yGh0"
      },
      "source": [
        "!python test.py --dataroot datasets/hazy2clear/testA --name hazy2clear --model test --no_dropout"
      ],
      "execution_count": null,
      "outputs": []
    }
  ]
}